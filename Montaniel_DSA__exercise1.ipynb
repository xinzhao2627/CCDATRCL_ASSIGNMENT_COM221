{
  "cells": [
    {
      "cell_type": "markdown",
      "metadata": {
        "id": "h2vFiYhGzZOg"
      },
      "source": [
        "# Exercise 1"
      ]
    },
    {
      "cell_type": "markdown",
      "source": [
        "## Class Initialization"
      ],
      "metadata": {
        "id": "sRm6kPQozcaU"
      }
    },
    {
      "cell_type": "code",
      "execution_count": null,
      "metadata": {
        "id": "b1u4Dt9mzZOi"
      },
      "outputs": [],
      "source": [
        "class Node:\n",
        "    def __init__(self, data):\n",
        "        self.data = data\n",
        "        self.next = None"
      ]
    },
    {
      "cell_type": "code",
      "execution_count": null,
      "metadata": {
        "id": "tigvHSaHzZOj"
      },
      "outputs": [],
      "source": [
        "class LinkedList:\n",
        "\n",
        "    def __init__(self):\n",
        "        self.head = None\n",
        "\n",
        "    def traverse(self, node):\n",
        "        while node:\n",
        "            print(node.data, end=\" -> \")\n",
        "            node = node.next"
      ]
    },
    {
      "cell_type": "code",
      "execution_count": null,
      "metadata": {
        "id": "LIkQBioVzZOk"
      },
      "outputs": [],
      "source": [
        "class DoublyLinkedList:\n",
        "\n",
        "    def __init__(self):\n",
        "        self.head = None\n",
        "\n",
        "    def traverse(self, node):\n",
        "        while node:\n",
        "            print(node.data, end=\" -> \")\n",
        "            node = node.next"
      ]
    },
    {
      "cell_type": "code",
      "execution_count": null,
      "metadata": {
        "id": "zlxNT5EozZOl"
      },
      "outputs": [],
      "source": [
        "class CircularLinkedList:\n",
        "\n",
        "    def __init__(self):\n",
        "        self.head = None\n",
        "\n",
        "    def traverse(self, node):\n",
        "\n",
        "        head = node\n",
        "\n",
        "        while node:\n",
        "            print(node.data, end=\" -> \")\n",
        "            node = node.next\n",
        "\n",
        "            # Break to prevent infinite loop\n",
        "            if node == head:\n",
        "                break"
      ]
    },
    {
      "cell_type": "markdown",
      "metadata": {
        "id": "O68-Q1-bzZOl"
      },
      "source": [
        "#### 1. Create a Singly Linked list\n",
        "\n",
        "- Each node should contain your name and your seatmates in your row\n",
        "- Create at least 5 nodes\n",
        "- Traverse all nodes"
      ]
    },
    {
      "cell_type": "code",
      "execution_count": null,
      "metadata": {
        "id": "pTcx_OuPzZOl",
        "colab": {
          "base_uri": "https://localhost:8080/"
        },
        "outputId": "32ab8fc5-e07a-41e5-fac4-9315dea08622"
      },
      "outputs": [
        {
          "output_type": "stream",
          "name": "stdout",
          "text": [
            "Vernon -> Rainnand -> Carl -> Juan -> Pedro -> "
          ]
        }
      ],
      "source": [
        "# put your code here\n",
        "list = LinkedList()\n",
        "list.head = Node(\"Vernon\")\n",
        "body2 = Node(\"Rainnand\")\n",
        "body3 = Node(\"Carl\")\n",
        "body4 = Node(\"Juan\")\n",
        "tail = Node(\"Pedro\")\n",
        "\n",
        "list.head.next = body2\n",
        "body2.next = body3\n",
        "body3.next = body4\n",
        "body4.next = tail\n",
        "\n",
        "list.traverse(list.head)\n"
      ]
    },
    {
      "cell_type": "markdown",
      "metadata": {
        "id": "IFgwbdw_zZOm"
      },
      "source": [
        "#### 2. Create a Doubly Linked list\n",
        "\n",
        "- Each node should contain your name and your seatmates in your row\n",
        "- Create at least 5 nodes\n",
        "- Traverse all nodes"
      ]
    },
    {
      "cell_type": "code",
      "execution_count": null,
      "metadata": {
        "id": "8kQD2A_QzZOm",
        "colab": {
          "base_uri": "https://localhost:8080/"
        },
        "outputId": "4b9956b7-5e4e-47bd-9e4e-c46f94b7f3a3"
      },
      "outputs": [
        {
          "output_type": "stream",
          "name": "stdout",
          "text": [
            "Vernon -> Rainnand -> Carl -> Juan -> Pedro -> ---\n",
            "value of head is : Vernon\n",
            "value of next to head is : Rainnand\n",
            "---\n",
            "value of body2 is : Rainnand\n",
            "value of previous of body2 is : Vernon\n",
            "value of next of body2 is : Carl\n",
            "---\n",
            "value of body3 is : Carl\n",
            "value of previous of body3 is : Rainnand\n",
            "value of next of body2 is : Juan\n",
            "---\n",
            "value of body4 is : Juan\n",
            "value of previous of body4 is : Carl\n",
            "value of next of body4 is : Pedro\n",
            "---\n",
            "value of tail is : Pedro\n",
            "value of previous of tail is : Juan\n"
          ]
        }
      ],
      "source": [
        "# put your code here\n",
        "list = DoublyLinkedList()\n",
        "list.head = Node(\"Vernon\")\n",
        "body2 = Node(\"Rainnand\")\n",
        "body3 = Node(\"Carl\")\n",
        "body4 = Node(\"Juan\")\n",
        "tail = Node(\"Pedro\")\n",
        "\n",
        "list.head.prev = None\n",
        "list.head.next = body2\n",
        "\n",
        "body2.prev = list.head\n",
        "body2.next = body3\n",
        "\n",
        "body3.prev = body2\n",
        "body3.next = body4\n",
        "\n",
        "body4.prev = body3\n",
        "body4.next = tail\n",
        "\n",
        "tail.prev = body4\n",
        "\n",
        "list.traverse(list.head)\n",
        "\n",
        "print(\"---\")\n",
        "\n",
        "print(\"value of head is :\", list.head.data)\n",
        "print(\"value of next to head is :\", list.head.next.data)\n",
        "\n",
        "print(\"---\")\n",
        "\n",
        "print(\"value of body2 is :\", body2.data)\n",
        "print(\"value of previous of body2 is :\", body2.prev.data)\n",
        "print(\"value of next of body2 is :\", body2.next.data)\n",
        "\n",
        "print(\"---\")\n",
        "\n",
        "print(\"value of body3 is :\", body3.data)\n",
        "print(\"value of previous of body3 is :\", body3.prev.data)\n",
        "print(\"value of next of body2 is :\", body3.next.data)\n",
        "\n",
        "print(\"---\")\n",
        "\n",
        "print(\"value of body4 is :\", body4.data)\n",
        "print(\"value of previous of body4 is :\", body4.prev.data)\n",
        "print(\"value of next of body4 is :\", body4.next.data)\n",
        "\n",
        "print(\"---\")\n",
        "\n",
        "print(\"value of tail is :\", tail.data)\n",
        "print(\"value of previous of tail is :\", tail.prev.data)\n",
        "\n"
      ]
    },
    {
      "cell_type": "markdown",
      "metadata": {
        "id": "rtApbsCjzZOm"
      },
      "source": [
        "#### 3. Create a Circular Linked list\n",
        "\n",
        "- Each node should contain your name and your seatmates in your row\n",
        "- Create at least 5 nodes\n",
        "- Traverse all nodes"
      ]
    },
    {
      "cell_type": "code",
      "execution_count": null,
      "metadata": {
        "id": "Gp1Oiq0jzZOn",
        "colab": {
          "base_uri": "https://localhost:8080/"
        },
        "outputId": "f8778250-a306-4d68-dcd6-3cd503bd0db7"
      },
      "outputs": [
        {
          "output_type": "stream",
          "name": "stdout",
          "text": [
            "Vernon -> Rainnand -> Carl -> Juan -> Pedro ->     \n",
            "value of head is : Vernon\n",
            "value of next to head is : Rainnand\n",
            "---\n",
            "value of body2 is : Rainnand\n",
            "value of next to body2 is : Carl\n",
            "---\n",
            "value of body3 is : Carl\n",
            "value of next to body3 is : Juan\n",
            "---\n",
            "value of body4 is : Juan\n",
            "value of next to body4 is : Pedro\n",
            "---\n",
            "value of tail is : Pedro\n",
            "value of next to tail is : Vernon\n",
            "---\n"
          ]
        }
      ],
      "source": [
        "# put your code here\n",
        "list = CircularLinkedList()\n",
        "list.head = Node(\"Vernon\")\n",
        "body2 = Node(\"Rainnand\")\n",
        "body3 = Node(\"Carl\")\n",
        "body4 = Node(\"Juan\")\n",
        "tail = Node(\"Pedro\")\n",
        "\n",
        "list.head.next = body2\n",
        "body2.next = body3\n",
        "body3.next = body4\n",
        "body4.next = tail\n",
        "tail.next  = list.head\n",
        "\n",
        "list.traverse(list.head)\n",
        "\n",
        "print(\"    \")\n",
        "\n",
        "print(\"value of head is :\", list.head.data)\n",
        "print(\"value of next to head is :\", list.head.next.data)\n",
        "\n",
        "print(\"---\")\n",
        "\n",
        "print(\"value of body2 is :\", body2.data)\n",
        "print(\"value of next to body2 is :\", body2.next.data)\n",
        "\n",
        "print(\"---\")\n",
        "\n",
        "print(\"value of body3 is :\", body3.data)\n",
        "print(\"value of next to body3 is :\", body3.next.data)\n",
        "\n",
        "print(\"---\")\n",
        "\n",
        "print(\"value of body4 is :\", body4.data)\n",
        "print(\"value of next to body4 is :\", body4.next.data)\n",
        "\n",
        "print(\"---\")\n",
        "\n",
        "print(\"value of tail is :\", tail.data)\n",
        "print(\"value of next to tail is :\", tail.next.data)\n",
        "\n",
        "print(\"---\")\n"
      ]
    }
  ],
  "metadata": {
    "kernelspec": {
      "display_name": "Python 3",
      "language": "python",
      "name": "python3"
    },
    "language_info": {
      "name": "python",
      "version": "3.11.4"
    },
    "orig_nbformat": 4,
    "colab": {
      "provenance": []
    }
  },
  "nbformat": 4,
  "nbformat_minor": 0
}