{
  "cells": [
    {
      "cell_type": "markdown",
      "metadata": {
        "id": "view-in-github",
        "colab_type": "text"
      },
      "source": [
        "<a href=\"https://colab.research.google.com/github/xinzhao2627/CCDATRCL_ASSIGNMENT_COM221/blob/main/Montaniel_DSA_Exercise3.ipynb\" target=\"_parent\"><img src=\"https://colab.research.google.com/assets/colab-badge.svg\" alt=\"Open In Colab\"/></a>"
      ]
    },
    {
      "cell_type": "markdown",
      "metadata": {
        "id": "Jv4Hpzaaovb_"
      },
      "source": [
        "# Exercise 3"
      ]
    },
    {
      "cell_type": "markdown",
      "metadata": {
        "id": "DzR77oORovcC"
      },
      "source": [
        "#### Pre-defined classes"
      ]
    },
    {
      "cell_type": "markdown",
      "metadata": {
        "id": "tmlGHJt7ovcD"
      },
      "source": [
        "Pre-defined Queue class"
      ]
    },
    {
      "cell_type": "code",
      "execution_count": null,
      "metadata": {
        "id": "lOeSYrYfovcD"
      },
      "outputs": [],
      "source": [
        "class Queue:\n",
        "    def __init__(self):\n",
        "        self.queue = []\n",
        "\n",
        "    # Add an element\n",
        "    def enqueue(self, item):\n",
        "        self.queue.append(item)\n",
        "\n",
        "    # Remove an element\n",
        "    def dequeue(self):\n",
        "        if len(self.queue) < 1:\n",
        "            return None\n",
        "        return self.queue.pop(0)\n",
        "\n",
        "    # Display  the queue\n",
        "    def display(self):\n",
        "        print(self.queue)\n",
        "\n",
        "    def size(self):\n",
        "        return len(self.queue)\n",
        "\n",
        "    def peek(self):\n",
        "        return self.queue[0]\n"
      ]
    },
    {
      "cell_type": "markdown",
      "metadata": {
        "id": "cnFt4JzVovcF"
      },
      "source": [
        "Pre-defined Deque class"
      ]
    },
    {
      "cell_type": "code",
      "execution_count": null,
      "metadata": {
        "id": "auk3ADnwovcF"
      },
      "outputs": [],
      "source": [
        "class Deque:\n",
        "    def __init__(self):\n",
        "        self.items = []\n",
        "\n",
        "    def isEmpty(self):\n",
        "        return self.items == []\n",
        "\n",
        "    def addRear(self, item):\n",
        "        self.items.append(item)\n",
        "\n",
        "    def addFront(self, item):\n",
        "        self.items.insert(0, item)\n",
        "\n",
        "    def removeFront(self):\n",
        "        return self.items.pop(0)\n",
        "\n",
        "    def removeRear(self):\n",
        "        return self.items.pop()\n",
        "\n",
        "    def size(self):\n",
        "        return len(self.items)"
      ]
    },
    {
      "cell_type": "markdown",
      "metadata": {
        "id": "8kBGmTxEovcG"
      },
      "source": [
        "Pre-defined Circular Queue class"
      ]
    },
    {
      "cell_type": "code",
      "execution_count": 79,
      "metadata": {
        "id": "Bt-UlVgQovcG"
      },
      "outputs": [],
      "source": [
        "class CircularQueue():\n",
        "\n",
        "    def __init__(self, k):\n",
        "        self.k = k\n",
        "        self.queue = [None] * k\n",
        "        self.head = self.tail = -1\n",
        "\n",
        "    # Insert an element into the circular queue\n",
        "    def enqueue(self, data):\n",
        "\n",
        "        if ((self.tail + 1) % self.k == self.head):\n",
        "            print(\"The circular queue is full\\n\")\n",
        "\n",
        "        elif (self.head == -1):\n",
        "            self.head = 0\n",
        "            self.tail = 0\n",
        "            self.queue[self.tail] = data\n",
        "        else:\n",
        "            self.tail = (self.tail + 1) % self.k\n",
        "            self.queue[self.tail] = data\n",
        "\n",
        "    # Delete an element from the circular queue\n",
        "    def dequeue(self):\n",
        "        if (self.head == -1):\n",
        "            print(\"The circular queue is empty\\n\")\n",
        "\n",
        "        elif (self.head == self.tail):\n",
        "            temp = self.queue[self.head]\n",
        "            self.head = -1\n",
        "            self.tail = -1\n",
        "            return temp\n",
        "        else:\n",
        "            temp = self.queue[self.head]\n",
        "            self.head = (self.head + 1) % self.k\n",
        "            return temp\n",
        "\n",
        "    def printCQueue(self):\n",
        "        if(self.head == -1):\n",
        "            print(\"No element in the circular queue\")\n",
        "\n",
        "        elif (self.tail >= self.head):\n",
        "            for i in range(self.head, self.tail + 1):\n",
        "                print(self.queue[i], end=\" \")\n",
        "            print()\n",
        "        else:\n",
        "            for i in range(self.head, self.k):\n",
        "                print(self.queue[i], end=\" \")\n",
        "            for i in range(0, self.tail + 1):\n",
        "                print(self.queue[i], end=\" \")\n",
        "            print()\n"
      ]
    },
    {
      "cell_type": "markdown",
      "metadata": {
        "id": "t3tsWrp7ovcH"
      },
      "source": [
        "Pre-defined Priority Queue Class"
      ]
    },
    {
      "cell_type": "code",
      "execution_count": 77,
      "metadata": {
        "id": "bu8qHr9AovcI"
      },
      "outputs": [],
      "source": [
        "class PriorityQueueNode:\n",
        "    def __init__(self, value, pr):\n",
        "\n",
        "        self.data = value\n",
        "        self.priority = pr\n",
        "        self.next = None"
      ]
    },
    {
      "cell_type": "code",
      "execution_count": 78,
      "metadata": {
        "id": "8xzP4dMyovcI"
      },
      "outputs": [],
      "source": [
        "class PriorityQueue:\n",
        "\n",
        "\tdef __init__(self):\n",
        "\n",
        "\t\tself.front = None\n",
        "\n",
        "\t# Method to check Priority Queue is Empty\n",
        "\t# or not if Empty then it will return True\n",
        "\t# Otherwise False\n",
        "\tdef isEmpty(self):\n",
        "\n",
        "\t\treturn True if self.front == None else False\n",
        "\n",
        "\t# Method to add items in Priority Queue\n",
        "\t# According to their priority value\n",
        "\tdef push(self, value, priority):\n",
        "\n",
        "\t\t# Condition check for checking Priority\n",
        "\t\t# Queue is empty or not\n",
        "\t\tif self.isEmpty() == True:\n",
        "\n",
        "\t\t\t# Creating a new node and assigning\n",
        "\t\t\t# it to class variable\n",
        "\t\t\tself.front = PriorityQueueNode(value, priority)\n",
        "\n",
        "\t\t\t# Returning 1 for successful execution\n",
        "\t\t\treturn 1\n",
        "\n",
        "\t\telse:\n",
        "\n",
        "\t\t\t# Special condition check to see that\n",
        "\t\t\t# first node priority value\n",
        "\t\t\tif self.front.priority > priority:\n",
        "\t\t\t\t# Creating a new node\n",
        "\t\t\t\tnewNode = PriorityQueueNode(value, priority)\n",
        "\t\t\t\t# Updating the new node next value\n",
        "\t\t\t\tnewNode.next = self.front\n",
        "\n",
        "\t\t\t\t# Assigning it to self.front\n",
        "\t\t\t\tself.front = newNode\n",
        "\n",
        "\t\t\t\t# Returning 1 for successful execution\n",
        "\t\t\t\treturn 1\n",
        "\n",
        "\t\t\telse:\n",
        "\n",
        "\t\t\t\t# Traversing through Queue until it\n",
        "\t\t\t\t# finds the next smaller priority node\n",
        "\t\t\t\ttemp = self.front\n",
        "\n",
        "\t\t\t\twhile temp.next:\n",
        "\t\t\t\t\t# If same priority node found then current\n",
        "\t\t\t\t\t# node will come after previous node\n",
        "\t\t\t\t\tif priority <= temp.next.priority:\n",
        "\t\t\t\t\t\tbreak\n",
        "\n",
        "\t\t\t\t\ttemp = temp.next\n",
        "\n",
        "\t\t\t\tnewNode = PriorityQueueNode(value, priority)\n",
        "\t\t\t\tnewNode.next = temp.next\n",
        "\t\t\t\ttemp.next = newNode\n",
        "\n",
        "\t\t\t\t# Returning 1 for successful execution\n",
        "\t\t\t\treturn 1\n",
        "\n",
        "\t# Method to remove high priority item\n",
        "\t# from the Priority Queue\n",
        "\tdef pop(self):\n",
        "\n",
        "\t\t# Condition check for checking\n",
        "\t\t# Priority Queue is empty or not\n",
        "\t\tif self.isEmpty() == True:\n",
        "\t\t\treturn\n",
        "\t\telse:\n",
        "\t\t\t# Removing high priority node from\n",
        "\t\t\t# Priority Queue, and updating front\n",
        "\t\t\t# with next node\n",
        "\t\t\tself.front = self.front.next\n",
        "\t\t\treturn 1\n",
        "\n",
        "\t# Method to return high priority node\n",
        "\t# value Not removing it\n",
        "\tdef peek(self):\n",
        "\t\t# Condition check for checking Priority\n",
        "\t\t# Queue is empty or not\n",
        "\t\tif self.isEmpty() == True:\n",
        "\t\t\treturn\n",
        "\t\telse:\n",
        "\t\t\treturn self.front.data\n",
        "\n",
        "\t# Method to Traverse through Priority\n",
        "\t# Queue\n",
        "\tdef traverse(self):\n",
        "\t\t# Condition check for checking Priority\n",
        "\t\t# Queue is empty or not\n",
        "\t\tif self.isEmpty() == True:\n",
        "\t\t\treturn \"Queue is Empty!\"\n",
        "\t\telse:\n",
        "\t\t\ttemp = self.front\n",
        "\t\t\twhile temp:\n",
        "\t\t\t\tprint(temp.data, end=\" \")\n",
        "\t\t\t\ttemp = temp.next\n"
      ]
    },
    {
      "cell_type": "markdown",
      "metadata": {
        "id": "pcti5jq2ovcI"
      },
      "source": [
        "#### 1. Create a Queue\n",
        "\n",
        "- Each element should contain your name and your other classmates\n",
        "- There should be at least 5 elements in the queue\n",
        "- Put yourself at the end of the queue\n",
        "- Print all elements in the queue"
      ]
    },
    {
      "cell_type": "code",
      "execution_count": 112,
      "metadata": {
        "id": "p69in6FlovcJ",
        "colab": {
          "base_uri": "https://localhost:8080/"
        },
        "outputId": "87317e42-1f49-45ab-ed74-509f0679288a"
      },
      "outputs": [
        {
          "output_type": "stream",
          "name": "stdout",
          "text": [
            "['Hamster', 'Rabbit', 'Dog', 'Cat', 'Rainnand']\n"
          ]
        }
      ],
      "source": [
        "# put your answer here\n",
        "myqueue = Queue()\n",
        "\n",
        "myqueue.enqueue(\"Hamster\")\n",
        "myqueue.enqueue(\"Rabbit\")\n",
        "myqueue.enqueue(\"Dog\")\n",
        "myqueue.enqueue(\"Cat\")\n",
        "myqueue.enqueue(\"Rainnand\")\n",
        "\n",
        "myqueue.display()\n",
        "\n"
      ]
    },
    {
      "cell_type": "markdown",
      "metadata": {
        "id": "F_fz7pF1ovcJ"
      },
      "source": [
        "#### 2. Create a Deque\n",
        "\n",
        "Given the queue below,\n",
        "\n",
        "**Queue:**\n",
        "\n",
        "| Cat | Dog | Rabbit | Bird | Hamster\n",
        "| --- | --- | --- | --- | --- |\n",
        "\n",
        "**dequeue** each element and insert them into a **Deque** in the following order below:\n",
        "\n",
        "**Deque:**\n",
        "\n",
        "| Hamster | Bird | Rabbit | Dog | Cat\n",
        "| --- | --- | --- | --- | --- |\n",
        "\n",
        "**Expected output:**\n",
        "\n",
        "['Hamster','Bird', 'Rabbit', 'Dog', 'Cat']"
      ]
    },
    {
      "cell_type": "code",
      "execution_count": 113,
      "metadata": {
        "id": "Yw1-zh56ovcJ",
        "colab": {
          "base_uri": "https://localhost:8080/"
        },
        "outputId": "620c0014-6cdc-4248-e45e-3fc5d015cf77"
      },
      "outputs": [
        {
          "output_type": "stream",
          "name": "stdout",
          "text": [
            "['Cat', 'Dog', 'Rabbit', 'Bird', 'Hamster']\n",
            "['Hamster', 'Bird', 'Rabbit', 'Dog', 'Cat']\n"
          ]
        }
      ],
      "source": [
        "# put your answer here\n",
        "normalqueue = Queue()\n",
        "\n",
        "normalqueue.enqueue(\"Cat\")\n",
        "normalqueue.enqueue(\"Dog\")\n",
        "normalqueue.enqueue(\"Rabbit\")\n",
        "normalqueue.enqueue(\"Bird\")\n",
        "normalqueue.enqueue(\"Hamster\")\n",
        "\n",
        "\n",
        "\n",
        "myqueue = Deque()\n",
        "length_n = normalqueue.size()\n",
        "for v in range(0, length_n):\n",
        "  myqueue.addRear(normalqueue.queue[v])\n",
        "\n",
        "print(myqueue.items)\n",
        "\n",
        "\n",
        "last = myqueue.removeRear()\n",
        "i = 0\n",
        "for p in range (0, 4):\n",
        "  x[i] = myqueue.removeRear()\n",
        "  i += 1\n",
        "\n",
        "myqueue.addFront(last)\n",
        "g = 0\n",
        "while myqueue.size() < 5:\n",
        "  myqueue.addRear(x[g])\n",
        "  g+=1\n",
        "\n",
        "\n",
        "print(myqueue.items)\n"
      ]
    },
    {
      "cell_type": "markdown",
      "metadata": {
        "id": "df48hc5UovcJ"
      },
      "source": [
        "#### 3. Create a Circular Queue\n",
        "\n",
        "Given the queue below,\n",
        "\n",
        "**Queue:**\n",
        "\n",
        "| I | II | III | IV | V | VI | VII | VIII | IX | X | XI | XII\n",
        "| --- | --- | --- | --- | --- | --- | --- | --- | --- | --- | --- | --- |\n",
        "\n",
        "**dequeue** each element and insert them into a **Circular Deque** in the following order below:\n",
        "\n",
        "**Circular Queue:**\n",
        "\n",
        "<img src=\"clock.jpg\"/>\n",
        "\n",
        "**Expected output:**\n",
        "\n",
        "I II III IV V VI VII VIII IX X XI XII"
      ]
    },
    {
      "cell_type": "code",
      "execution_count": 114,
      "metadata": {
        "id": "dxdMXCgxovcJ",
        "colab": {
          "base_uri": "https://localhost:8080/"
        },
        "outputId": "84f4625e-9250-4539-ad8f-ac789329dc66"
      },
      "outputs": [
        {
          "output_type": "stream",
          "name": "stdout",
          "text": [
            "I II III IV V VI VII VIII IX X XI XII \n"
          ]
        }
      ],
      "source": [
        "# put your answer here\n",
        "normalqueue = Queue()\n",
        "\n",
        "\n",
        "\n",
        "normalqueue.enqueue(\"I\")\n",
        "normalqueue.enqueue(\"II\")\n",
        "normalqueue.enqueue(\"III\")\n",
        "normalqueue.enqueue(\"IV\")\n",
        "normalqueue.enqueue(\"V\")\n",
        "normalqueue.enqueue(\"VI\")\n",
        "normalqueue.enqueue(\"VII\")\n",
        "normalqueue.enqueue(\"VIII\")\n",
        "normalqueue.enqueue(\"IX\")\n",
        "normalqueue.enqueue(\"X\")\n",
        "normalqueue.enqueue(\"XI\")\n",
        "normalqueue.enqueue(\"XII\")\n",
        "\n",
        "myqueue = CircularQueue(len(normalqueue.queue))\n",
        "\n",
        "\n",
        "for i in range(0, len(normalqueue.queue)):\n",
        "  myqueue.enqueue(normalqueue.dequeue())\n",
        "\n",
        "myqueue.printCQueue()"
      ]
    },
    {
      "cell_type": "markdown",
      "metadata": {
        "id": "BTYoAT4aovcJ"
      },
      "source": [
        "#### 4. Create a Priority Queue\n",
        "\n",
        "Given the queue below,\n",
        "\n",
        "**Queue:**\n",
        "\n",
        "| Cat | Dog | Rabbit | Bird | Hamster\n",
        "| --- | --- | --- | --- | --- |\n",
        "\n",
        "\n",
        "**dequeue** each element and insert them into a **Priority Queue** with the following priority values\n",
        "\n",
        "**Priority Queue:**\n",
        "\n",
        "| Element | Priority |\n",
        "| --- | --- |\n",
        "| Hamster |  0 |\n",
        "| Bird |  1 |\n",
        "| Rabbit |  2 |\n",
        "| Dog |  3 |\n",
        "| Cat |  4 |\n",
        "\n",
        "**Expected output:**\n",
        "\n",
        "Hamster Bird Rabbit Dog Cat"
      ]
    },
    {
      "cell_type": "code",
      "execution_count": 115,
      "metadata": {
        "id": "1BL_zzYDovcK",
        "colab": {
          "base_uri": "https://localhost:8080/"
        },
        "outputId": "9be15f59-2564-418b-cb51-7c87a7eecd59"
      },
      "outputs": [
        {
          "output_type": "stream",
          "name": "stdout",
          "text": [
            "['Hamster', 'Bird', 'Rabbit', 'Dog', 'Cat']\n",
            "Hamster Bird Rabbit Dog Cat None\n"
          ]
        }
      ],
      "source": [
        "# put your answer here\n",
        "normalqueue = Queue()\n",
        "normalqueue.enqueue(\"Hamster\")\n",
        "normalqueue.enqueue(\"Bird\")\n",
        "normalqueue.enqueue(\"Rabbit\")\n",
        "normalqueue.enqueue(\"Dog\")\n",
        "normalqueue.enqueue(\"Cat\")\n",
        "\n",
        "\n",
        "normalqueue.display()\n",
        "myqueue = PriorityQueue()\n",
        "\n",
        "\n",
        "myqueue.push(normalqueue.dequeue(), 0)\n",
        "myqueue.push(normalqueue.dequeue(), 1)\n",
        "myqueue.push(normalqueue.dequeue(), 2)\n",
        "myqueue.push(normalqueue.dequeue(), 3)\n",
        "myqueue.push(normalqueue.dequeue(), 4)\n",
        "\n",
        "print(myqueue.traverse())"
      ]
    },
    {
      "cell_type": "markdown",
      "metadata": {
        "id": "3uAIqwfrovcK"
      },
      "source": [
        "#### 5. Create a Sorted Circular Queue\n",
        "\n",
        "Given the queue below,\n",
        "\n",
        "**Queue:**\n",
        "\n",
        "| 1 | 5 | 3 | 2 | 7 | 8 | 10 | 11 | 6 | 4 | 12 | 9\n",
        "| --- | --- | --- | --- | --- | --- | --- | --- | --- | --- | --- | --- |\n",
        "\n",
        "\n",
        "**dequeue** each element and insert them into a **Circular Queue** in the following order below:\n",
        "\n",
        "**Circular Queue:**\n",
        "\n",
        "<img src=\"clock1.png\"/>\n",
        "\n",
        "**Expected output:**\n",
        "\n",
        "1 2 3 4 5 6 7 8 9 10 11 12"
      ]
    },
    {
      "cell_type": "code",
      "execution_count": 111,
      "metadata": {
        "id": "NfoOxz1kovcK",
        "colab": {
          "base_uri": "https://localhost:8080/"
        },
        "outputId": "fe36fa4a-bebe-4765-94ec-b79347960fb2"
      },
      "outputs": [
        {
          "output_type": "stream",
          "name": "stdout",
          "text": [
            "1 5 3 2 7 8 10 11 6 4 12 9 \n",
            "1 2 3 4 5 6 7 8 9 10 11 12 \n"
          ]
        }
      ],
      "source": [
        "# put your answer here\n",
        "myqueue = CircularQueue(12)\n",
        "normalqueue = Queue()\n",
        "normalqueue.enqueue(1)\n",
        "normalqueue.enqueue(5)\n",
        "normalqueue.enqueue(3)\n",
        "normalqueue.enqueue(2)\n",
        "normalqueue.enqueue(7)\n",
        "normalqueue.enqueue(8)\n",
        "normalqueue.enqueue(10)\n",
        "normalqueue.enqueue(11)\n",
        "normalqueue.enqueue(6)\n",
        "normalqueue.enqueue(4)\n",
        "normalqueue.enqueue(12)\n",
        "normalqueue.enqueue(9)\n",
        "\n",
        "for i in range(0, len(normalqueue.queue)):\n",
        "  myqueue.enqueue(normalqueue.dequeue())\n",
        "\n",
        "myqueue.printCQueue()\n",
        "c = 0\n",
        "for i in range(0, len(myqueue.queue)):\n",
        "  x[c] = myqueue.dequeue()\n",
        "  c += 1\n",
        "x = sorted(x)\n",
        "\n",
        "for i in range(0, len(x)):\n",
        "  myqueue.enqueue(x[i])\n",
        "\n",
        "myqueue.printCQueue()"
      ]
    }
  ],
  "metadata": {
    "kernelspec": {
      "display_name": "Python 3",
      "language": "python",
      "name": "python3"
    },
    "language_info": {
      "codemirror_mode": {
        "name": "ipython",
        "version": 3
      },
      "file_extension": ".py",
      "mimetype": "text/x-python",
      "name": "python",
      "nbconvert_exporter": "python",
      "pygments_lexer": "ipython3",
      "version": "3.9.13"
    },
    "orig_nbformat": 4,
    "colab": {
      "provenance": [],
      "include_colab_link": true
    }
  },
  "nbformat": 4,
  "nbformat_minor": 0
}