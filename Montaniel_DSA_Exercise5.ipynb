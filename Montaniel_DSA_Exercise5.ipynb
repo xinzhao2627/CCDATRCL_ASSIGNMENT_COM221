{
  "cells": [
    {
      "cell_type": "markdown",
      "metadata": {
        "id": "view-in-github",
        "colab_type": "text"
      },
      "source": [
        "<a href=\"https://colab.research.google.com/github/xinzhao2627/CCDATRCL_ASSIGNMENT_COM221/blob/main/Montaniel_DSA_Exercise5.ipynb\" target=\"_parent\"><img src=\"https://colab.research.google.com/assets/colab-badge.svg\" alt=\"Open In Colab\"/></a>"
      ]
    },
    {
      "cell_type": "markdown",
      "metadata": {
        "id": "t0ZIoNXtBshq"
      },
      "source": [
        "# Exercise 5"
      ]
    },
    {
      "cell_type": "markdown",
      "metadata": {
        "id": "1ZsJiYCTBshv"
      },
      "source": [
        "#### 1. Create a dictionary of your 10 favorite songs."
      ]
    },
    {
      "cell_type": "markdown",
      "metadata": {
        "id": "pmeDNO9UBshw"
      },
      "source": [
        "Example:\n",
        "\n",
        "|KEY|VALUE|\n",
        "|---|---|\n",
        "|001|My Love|\n",
        "|002|Like a rose|"
      ]
    },
    {
      "cell_type": "code",
      "execution_count": 3,
      "metadata": {
        "id": "sokfEBOiBshx"
      },
      "outputs": [],
      "source": [
        "# put your answer here\n",
        "mydictionary = {\n",
        "    1: \"Warsong\",\n",
        "    2: \"Lilim\",\n",
        "    3: \"Oz\",\n",
        "    4: \"Binary Star\",\n",
        "    5: \"Eden\",\n",
        "    6: \"My way\",\n",
        "    7: \"Hosanna\",\n",
        "    8: \"Mahal kong Pilipinas\",\n",
        "    9: \"Salamat Salamat\",\n",
        "    10: \"Love Letter\"\n",
        "}"
      ]
    },
    {
      "cell_type": "markdown",
      "metadata": {
        "id": "1dsk4aAQBshy"
      },
      "source": [
        "#### 2. Loop through the dictionary by its **key** and **value**"
      ]
    },
    {
      "cell_type": "code",
      "execution_count": 4,
      "metadata": {
        "id": "Lhu-SeTNBshz",
        "colab": {
          "base_uri": "https://localhost:8080/"
        },
        "outputId": "9501966a-b7ae-4315-a625-4158abe8f5a5"
      },
      "outputs": [
        {
          "output_type": "stream",
          "name": "stdout",
          "text": [
            "1 Warsong\n",
            "2 Lilim\n",
            "3 Oz\n",
            "4 Binary Star\n",
            "5 Eden\n",
            "6 My way\n",
            "7 Hosanna\n",
            "8 Mahal kong Pilipinas\n",
            "9 Salamat Salamat\n",
            "10 Love Letter\n"
          ]
        }
      ],
      "source": [
        "# put your answer here\n",
        "for x, y in mydictionary.items():\n",
        "  print(x, y)"
      ]
    },
    {
      "cell_type": "markdown",
      "metadata": {
        "id": "vUmfet2kBshz"
      },
      "source": [
        "#### 3. Add one additional song"
      ]
    },
    {
      "cell_type": "code",
      "execution_count": 5,
      "metadata": {
        "id": "TCl9vtsKBshz"
      },
      "outputs": [],
      "source": [
        "# put your answer here\n",
        "mydictionary[11] = \"May Galak\""
      ]
    },
    {
      "cell_type": "markdown",
      "metadata": {
        "id": "CoPxDPgjBsh0"
      },
      "source": [
        "#### 4. Remove one song"
      ]
    },
    {
      "cell_type": "code",
      "execution_count": 6,
      "metadata": {
        "id": "bxoxGLLoBsh0",
        "colab": {
          "base_uri": "https://localhost:8080/",
          "height": 35
        },
        "outputId": "dbd7dd10-606e-41a8-a6b6-dfb7502d1377"
      },
      "outputs": [
        {
          "output_type": "execute_result",
          "data": {
            "text/plain": [
              "'Warsong'"
            ],
            "application/vnd.google.colaboratory.intrinsic+json": {
              "type": "string"
            }
          },
          "metadata": {},
          "execution_count": 6
        }
      ],
      "source": [
        "# put your answer here\n",
        "mydictionary.pop(1)"
      ]
    },
    {
      "cell_type": "markdown",
      "metadata": {
        "id": "aEQ1KSOcBsh1"
      },
      "source": [
        "#### 5. Create a nested dictionary of your 10 favorite songs with 5 genres. Display all of the items of the nested dictionary\n",
        "\n",
        "- Each nested dictionary's key should be the genre of the song\n",
        "- Put each song in their respective genre"
      ]
    },
    {
      "cell_type": "markdown",
      "metadata": {
        "id": "Tf2_bNVXBsh1"
      },
      "source": [
        "Example:\n",
        "\n",
        "\n",
        "|KEY|VALUE|\n",
        "|---|---|\n",
        "|Pop|{001, Baby}|\n",
        "|Rock|{001, Enter Sandman}|"
      ]
    },
    {
      "cell_type": "code",
      "execution_count": 11,
      "metadata": {
        "id": "widXmuoZBsh1"
      },
      "outputs": [],
      "source": [
        "# put your answer here\n",
        "mynested = {\n",
        "    \"Gospel\": {\n",
        "        1: \"Warsong\",\n",
        "        2: \"Lilim\",\n",
        "    },\n",
        "    \"J-Pop\": {\n",
        "      1: \"Lemon\",\n",
        "      2: \"Goodbye Elegy\"\n",
        "    },\n",
        "    \"Country\": {\n",
        "        1: \"Around the World\",\n",
        "        2: \"My way\"\n",
        "    },\n",
        "    \"Electronics\": {\n",
        "        1: \"Prelude to Wisdom\",\n",
        "        2: \"Roundtable Rival\"\n",
        "    },\n",
        "    \"Classical\": {\n",
        "        1: \"Four seasons\",\n",
        "        2: \"New World Symphony\"\n",
        "    }\n",
        "}"
      ]
    },
    {
      "cell_type": "markdown",
      "metadata": {
        "id": "d0H9ZtH0Bsh2"
      },
      "source": [
        "#### 6. Print the first song of the first genre"
      ]
    },
    {
      "cell_type": "code",
      "execution_count": 12,
      "metadata": {
        "id": "nw3dYqgBBsh2",
        "colab": {
          "base_uri": "https://localhost:8080/"
        },
        "outputId": "66654f07-54b4-4220-91d0-53b8c433f9bd"
      },
      "outputs": [
        {
          "output_type": "stream",
          "name": "stdout",
          "text": [
            "Warsong\n"
          ]
        }
      ],
      "source": [
        "# put your answer here\n",
        "print(mynested[\"Gospel\"][1])"
      ]
    },
    {
      "cell_type": "markdown",
      "metadata": {
        "id": "MOdAOLG4Bsh2"
      },
      "source": [
        "#### 7. Print the first song of the last genre"
      ]
    },
    {
      "cell_type": "code",
      "execution_count": 14,
      "metadata": {
        "id": "l_QIe1wtBsh2",
        "colab": {
          "base_uri": "https://localhost:8080/"
        },
        "outputId": "d344b9af-0876-443e-8de9-f3fc8b3150c5"
      },
      "outputs": [
        {
          "output_type": "stream",
          "name": "stdout",
          "text": [
            "Four seasons\n"
          ]
        }
      ],
      "source": [
        "# put your answer here\n",
        "print(mynested[\"Classical\"][1])"
      ]
    }
  ],
  "metadata": {
    "kernelspec": {
      "display_name": "Python 3",
      "language": "python",
      "name": "python3"
    },
    "language_info": {
      "codemirror_mode": {
        "name": "ipython",
        "version": 3
      },
      "file_extension": ".py",
      "mimetype": "text/x-python",
      "name": "python",
      "nbconvert_exporter": "python",
      "pygments_lexer": "ipython3",
      "version": "3.11.4"
    },
    "orig_nbformat": 4,
    "colab": {
      "provenance": [],
      "include_colab_link": true
    }
  },
  "nbformat": 4,
  "nbformat_minor": 0
}