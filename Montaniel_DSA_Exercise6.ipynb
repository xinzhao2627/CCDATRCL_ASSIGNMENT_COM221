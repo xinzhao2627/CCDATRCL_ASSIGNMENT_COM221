{
  "cells": [
    {
      "cell_type": "markdown",
      "metadata": {
        "id": "view-in-github",
        "colab_type": "text"
      },
      "source": [
        "<a href=\"https://colab.research.google.com/github/xinzhao2627/CCDATRCL_ASSIGNMENT_COM221/blob/main/Montaniel_DSA_Exercise6.ipynb\" target=\"_parent\"><img src=\"https://colab.research.google.com/assets/colab-badge.svg\" alt=\"Open In Colab\"/></a>"
      ]
    },
    {
      "cell_type": "markdown",
      "metadata": {
        "id": "7_G0K_VoXISA"
      },
      "source": [
        "# Exercise 6"
      ]
    },
    {
      "cell_type": "markdown",
      "metadata": {
        "id": "pUFTICH7XISF"
      },
      "source": [
        "#### Pre-defined code"
      ]
    },
    {
      "cell_type": "code",
      "execution_count": 2,
      "metadata": {
        "id": "jkRQFVW6XISG"
      },
      "outputs": [],
      "source": [
        "class Node:\n",
        "    def __init__(self, item):\n",
        "        self.left = None\n",
        "        self.right = None\n",
        "        self.val = item"
      ]
    },
    {
      "cell_type": "code",
      "execution_count": 3,
      "metadata": {
        "id": "lfxjy863XISH"
      },
      "outputs": [],
      "source": [
        "def inorder(root):\n",
        "\n",
        "    if root:\n",
        "        # Traverse left\n",
        "        inorder(root.left)\n",
        "        # Traverse root\n",
        "        print(str(root.val) + \"->\", end='')\n",
        "        # Traverse right\n",
        "        inorder(root.right)\n",
        "\n",
        "def postorder(root):\n",
        "\n",
        "    if root:\n",
        "        # Traverse left\n",
        "        postorder(root.left)\n",
        "        # Traverse right\n",
        "        postorder(root.right)\n",
        "        # Traverse root\n",
        "        print(str(root.val) + \"->\", end='')\n",
        "\n",
        "def preorder(root):\n",
        "\n",
        "    if root:\n",
        "        # Traverse root\n",
        "        print(str(root.val) + \"->\", end='')\n",
        "        # Traverse left\n",
        "        preorder(root.left)\n",
        "        # Traverse right\n",
        "        preorder(root.right)"
      ]
    },
    {
      "cell_type": "markdown",
      "metadata": {
        "id": "zfrzTT05XISI"
      },
      "source": [
        "#### 1. Construct Create your own company org chart and put yourself as CEO.\n",
        "\n",
        "Using a Tree data structure,\n",
        "\n",
        "- Assign yourself as CEO\n",
        "\n",
        "- Assign any of your classmate as HR Director\n",
        "- Assign any of your classmate as Sales Director\n",
        "\n",
        "- Assign any of your classmate as trainee. His/her boss is the HR Director\n",
        "- Assign any of your classmate as a staff and trainee. Their boss is the Sales Director\n"
      ]
    },
    {
      "cell_type": "markdown",
      "metadata": {
        "id": "JsNKvj0rXISI"
      },
      "source": [
        "<img src=\"https://thumbs.dreamstime.com/z/cartoon-organization-chart-some-company-93778925.jpg\"/>"
      ]
    },
    {
      "cell_type": "code",
      "execution_count": 6,
      "metadata": {
        "id": "bX6J0aJoXISJ"
      },
      "outputs": [],
      "source": [
        "# put your answer here\n",
        "ceo = Node(\" CEO: Rainnand\")\n",
        "ceo.left = Node(\" HR: Neil\")\n",
        "ceo.right = Node(\"Sales: Carl\")\n",
        "ceo.left.left = Node(\" Trainee 1: Platino\")\n",
        "ceo.right.right = Node(\" Staff: Vernon\")\n",
        "ceo.right.left = Node(\" Trainee 2: Montaniel\")"
      ]
    },
    {
      "cell_type": "markdown",
      "metadata": {
        "id": "hGKshDyHXISK"
      },
      "source": [
        "#### 2. Traverse the tree in in-order traversal"
      ]
    },
    {
      "cell_type": "code",
      "execution_count": 7,
      "metadata": {
        "id": "pdSEgDMyXISL",
        "colab": {
          "base_uri": "https://localhost:8080/"
        },
        "outputId": "505cdeb1-2fcf-4c66-f898-7b4f880270a1"
      },
      "outputs": [
        {
          "output_type": "stream",
          "name": "stdout",
          "text": [
            "Inorder traversal \n",
            " Trainee 1: Platino-> HR: Neil-> CEO: Rainnand-> Trainee 2: Montaniel->Sales: Carl-> Staff: Vernon->"
          ]
        }
      ],
      "source": [
        "# put your answer here\n",
        "print(\"Inorder traversal \")\n",
        "inorder(ceo)"
      ]
    },
    {
      "cell_type": "markdown",
      "metadata": {
        "id": "lJyj-ABxXISL"
      },
      "source": [
        "#### 3. Traverse the tree in pre-order traversal"
      ]
    },
    {
      "cell_type": "code",
      "execution_count": 8,
      "metadata": {
        "id": "qhsMB0LwXISL",
        "colab": {
          "base_uri": "https://localhost:8080/"
        },
        "outputId": "7b1c9955-7516-4ba1-8ed0-b45950c20bd7"
      },
      "outputs": [
        {
          "output_type": "stream",
          "name": "stdout",
          "text": [
            "\n",
            "Preorder traversal \n",
            " CEO: Rainnand-> HR: Neil-> Trainee 1: Platino->Sales: Carl-> Trainee 2: Montaniel-> Staff: Vernon->"
          ]
        }
      ],
      "source": [
        "# put your answer here\n",
        "print(\"\\nPreorder traversal \")\n",
        "preorder(ceo)"
      ]
    },
    {
      "cell_type": "markdown",
      "metadata": {
        "id": "dBIB8A12XISM"
      },
      "source": [
        "#### 4. Traverse the tree in post-order traversal"
      ]
    },
    {
      "cell_type": "code",
      "execution_count": 9,
      "metadata": {
        "id": "jP8btn00XISM",
        "colab": {
          "base_uri": "https://localhost:8080/"
        },
        "outputId": "b5ac2eef-b0aa-4daf-98f7-5604b8256e58"
      },
      "outputs": [
        {
          "output_type": "stream",
          "name": "stdout",
          "text": [
            "\n",
            "Postorder traversal \n",
            " Trainee 1: Platino-> HR: Neil-> Trainee 2: Montaniel-> Staff: Vernon->Sales: Carl-> CEO: Rainnand->"
          ]
        }
      ],
      "source": [
        "# put your answer here\n",
        "print(\"\\nPostorder traversal \")\n",
        "postorder(ceo)"
      ]
    }
  ],
  "metadata": {
    "kernelspec": {
      "display_name": "Python 3",
      "language": "python",
      "name": "python3"
    },
    "language_info": {
      "codemirror_mode": {
        "name": "ipython",
        "version": 3
      },
      "file_extension": ".py",
      "mimetype": "text/x-python",
      "name": "python",
      "nbconvert_exporter": "python",
      "pygments_lexer": "ipython3",
      "version": "3.11.4"
    },
    "orig_nbformat": 4,
    "colab": {
      "provenance": [],
      "include_colab_link": true
    }
  },
  "nbformat": 4,
  "nbformat_minor": 0
}