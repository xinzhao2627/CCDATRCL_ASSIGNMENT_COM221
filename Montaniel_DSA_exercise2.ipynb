{
  "cells": [
    {
      "cell_type": "markdown",
      "metadata": {
        "id": "view-in-github",
        "colab_type": "text"
      },
      "source": [
        "<a href=\"https://colab.research.google.com/github/xinzhao2627/CCDATRCL_ASSIGNMENT_COM221/blob/main/Montaniel_DSA_exercise2.ipynb\" target=\"_parent\"><img src=\"https://colab.research.google.com/assets/colab-badge.svg\" alt=\"Open In Colab\"/></a>"
      ]
    },
    {
      "cell_type": "markdown",
      "metadata": {
        "id": "QNWAYtOH8JJM"
      },
      "source": [
        "# Exercise 2"
      ]
    },
    {
      "cell_type": "markdown",
      "metadata": {
        "id": "WqS_i0U78JJQ"
      },
      "source": [
        "#### Pre-defined stack functions"
      ]
    },
    {
      "cell_type": "code",
      "execution_count": 2,
      "metadata": {
        "id": "Q55AdD2y8JJR"
      },
      "outputs": [],
      "source": [
        "# Creating a stack\n",
        "def create_stack():\n",
        "    stack = []\n",
        "    return stack\n",
        "\n",
        "def print_stack(stack):\n",
        "\n",
        "    if (check_empty(stack)):\n",
        "            return \"stack is empty\"\n",
        "\n",
        "    # Create a copy of the stack and reverse the elements\n",
        "    tempStack = stack.copy()\n",
        "    tempStack.reverse()\n",
        "\n",
        "    # Print all elements using a loop\n",
        "    for i in tempStack:\n",
        "        print(i)\n",
        "\n",
        "    # Delete the copy to free up memory\n",
        "    del tempStack\n",
        "\n",
        "# Creating an empty stack\n",
        "def check_empty(stack):\n",
        "    return len(stack) == 0\n",
        "\n",
        "\n",
        "# Adding items into the stack\n",
        "def push(stack, item):\n",
        "    stack.append(item)\n",
        "    print(\"pushed item: \", item)\n",
        "\n",
        "\n",
        "# Removing an element from the stack\n",
        "def pop(stack):\n",
        "    if (check_empty(stack)):\n",
        "        return \"stack is empty\"\n",
        "\n",
        "    return stack.pop()\n",
        "\n",
        "def peek(stack):\n",
        "\n",
        "    # Use negative indexing to display the last element of the list\n",
        "    print(stack[-1])\n"
      ]
    },
    {
      "cell_type": "markdown",
      "metadata": {
        "id": "z5FA3bY38JJT"
      },
      "source": [
        "#### 1. Create a burger stack.  \n",
        "\n",
        "The output of the stack should be in this order:\n",
        "\n",
        "- Bun\n",
        "\n",
        "- Tomato\n",
        "\n",
        "- Lettuce\n",
        "\n",
        "- Cheese\n",
        "\n",
        "- Patty\n",
        "\n",
        "- Bun"
      ]
    },
    {
      "cell_type": "code",
      "execution_count": null,
      "metadata": {
        "id": "n6yPehQq8JJU",
        "colab": {
          "base_uri": "https://localhost:8080/"
        },
        "outputId": "476466bb-5acc-44f2-f3d1-840da62efa3c"
      },
      "outputs": [
        {
          "output_type": "stream",
          "name": "stdout",
          "text": [
            "pushed item:  Bun\n",
            "pushed item:  Patty\n",
            "pushed item:  Cheese\n",
            "pushed item:  Lettuce\n",
            "pushed item:  Tomato\n",
            "pushed item:  Bun\n",
            "\n",
            "Bun\n",
            "Tomato\n",
            "Lettuce\n",
            "Cheese\n",
            "Patty\n",
            "Bun\n"
          ]
        }
      ],
      "source": [
        "# Put your answer here\n",
        "burger = create_stack()\n",
        "push(burger, \"Bun\")\n",
        "push(burger, \"Patty\")\n",
        "push(burger, \"Cheese\")\n",
        "push(burger, \"Lettuce\")\n",
        "push(burger, \"Tomato\")\n",
        "push(burger, \"Bun\")\n",
        "\n",
        "\n",
        "print_stack(burger)"
      ]
    },
    {
      "cell_type": "markdown",
      "metadata": {
        "id": "W4XvryDA8JJU"
      },
      "source": [
        "#### 2. Reverse a string using a stack\n",
        "\n",
        "Given two stacks:\n",
        "\n",
        "**name_stack = ['E', 'L', 'I', 'Z', 'E', 'R']**\n",
        "\n",
        "**reversed_stack = []**\n",
        "\n",
        "Use your **firstname** and pop each letter from the **name_stack** and push each element into the **reversed_stack**\n",
        "\n",
        "-----------------\n",
        "**Expected output:**\n",
        "\n",
        "print(reversed_stack)\n",
        "\n",
        "['R', 'E', 'Z', 'I', 'L', 'E']"
      ]
    },
    {
      "cell_type": "code",
      "execution_count": 48,
      "metadata": {
        "id": "BuPMzC-g8JJV",
        "colab": {
          "base_uri": "https://localhost:8080/"
        },
        "outputId": "c5473e8f-828a-42ba-cf5b-0e651dc7ab0d"
      },
      "outputs": [
        {
          "output_type": "stream",
          "name": "stdout",
          "text": [
            "pushed item:  R\n",
            "pushed item:  A\n",
            "pushed item:  I\n",
            "pushed item:  N\n",
            "pushed item:  N\n",
            "N\n",
            "N\n",
            "I\n",
            "A\n",
            "R\n",
            "pushed item:  N\n",
            "pushed item:  N\n",
            "pushed item:  I\n",
            "pushed item:  A\n",
            "pushed item:  R\n",
            "\n",
            "R\n",
            "A\n",
            "I\n",
            "N\n",
            "N\n",
            "Head:  N\n"
          ]
        }
      ],
      "source": [
        "# put your answer here\n",
        "name = create_stack()\n",
        "rev = create_stack()\n",
        "\n",
        "push(name, 'R')\n",
        "push(name, 'A')\n",
        "push(name, 'I')\n",
        "push(name, 'N')\n",
        "push(name, 'N')\n",
        "\n",
        "rev = create_stack()\n",
        "print_stack(name)\n",
        "\n",
        "push(rev, pop(name))\n",
        "push(rev, pop(name))\n",
        "push(rev, pop(name))\n",
        "push(rev, pop(name))\n",
        "push(rev, pop(name))\n",
        "\n",
        "print()\n",
        "print_stack(rev)\n",
        "print(\"Head: \", rev[0])"
      ]
    },
    {
      "cell_type": "markdown",
      "metadata": {
        "id": "coRKfCPZ8JJV"
      },
      "source": [
        "#### 3. Remove elements using a stack\n",
        "\n",
        "Given this stack:\n",
        "\n",
        "numbers = [1,2,3,4,5,6,7,8,9,10]\n",
        "\n",
        "new_stack = []\n",
        "\n",
        "Using the **pop()** function, push elements in the **new_stack** if they are an **even number**\n",
        "\n",
        "-----------------\n",
        "\n",
        "**Expected output:**\n",
        "\n",
        "print(new_stack)\n",
        "\n",
        "[2,4,6,8,10]"
      ]
    },
    {
      "cell_type": "code",
      "execution_count": 46,
      "metadata": {
        "id": "zTXYampp8JJV",
        "colab": {
          "base_uri": "https://localhost:8080/"
        },
        "outputId": "434c274e-f5b8-4c55-e910-9dc7c455ca8c"
      },
      "outputs": [
        {
          "output_type": "stream",
          "name": "stdout",
          "text": [
            "pushed item:  1\n",
            "pushed item:  2\n",
            "pushed item:  3\n",
            "pushed item:  4\n",
            "pushed item:  5\n",
            "pushed item:  6\n",
            "pushed item:  7\n",
            "pushed item:  8\n",
            "pushed item:  9\n",
            "pushed item:  10\n",
            "\n",
            "ALL NUMBERS\n",
            "10\n",
            "9\n",
            "8\n",
            "7\n",
            "6\n",
            "5\n",
            "4\n",
            "3\n",
            "2\n",
            "1\n",
            "\n",
            "pushed item:  2\n",
            "pushed item:  4\n",
            "pushed item:  6\n",
            "pushed item:  8\n",
            "pushed item:  10\n",
            "\n",
            "EVEN NUMBERS\n",
            "10\n",
            "8\n",
            "6\n",
            "4\n",
            "2\n",
            "Head:  2\n"
          ]
        }
      ],
      "source": [
        "# put your answer here\n",
        "num = create_stack()\n",
        "new = create_stack()\n",
        "for i in range(1, 10 + 1):\n",
        "  push(num, i)\n",
        "\n",
        "print()\n",
        "print(\"ALL NUMBERS\")\n",
        "print_stack(num)\n",
        "\n",
        "print()\n",
        "x = 0\n",
        "for i in num:\n",
        "  x = i\n",
        "  if x % 2 == 0:\n",
        "    push(new, num[i-1])\n",
        "\n",
        "print()\n",
        "print(\"EVEN NUMBERS\")\n",
        "print_stack(new)\n",
        "print(\"Head: \", new[0])"
      ]
    },
    {
      "cell_type": "markdown",
      "metadata": {
        "id": "1s4LGmuT8JJW"
      },
      "source": [
        "#### 4. Inserting elements into a stack\n",
        "\n",
        "Given two stacks:\n",
        "\n",
        "my_stack = ['E', 'L', 'I', 'Z', 'E', 'R', 'P', 'O', 'N', 'I', 'O', 'J', 'R']\n",
        "\n",
        "empty_stack = []\n",
        "\n",
        "Use **pop()** to get each element from  **my_stack** and use **push()** to insert the element to **empty_stack** only if:\n",
        "\n",
        "1. The element is a **vowel**\n",
        "2. The element does not exist in **empty_stack**\n",
        "\n",
        "----------------------\n",
        "\n",
        "**Expected output:**\n",
        "\n",
        "print_stack(empty_stack)\n",
        "\n",
        "['E', 'I', 'O']"
      ]
    },
    {
      "cell_type": "code",
      "execution_count": 3,
      "metadata": {
        "id": "cGXh7yd18JJW",
        "colab": {
          "base_uri": "https://localhost:8080/"
        },
        "outputId": "a1d6487f-ea35-456f-bfb0-ffb256c3e656"
      },
      "outputs": [
        {
          "output_type": "stream",
          "name": "stdout",
          "text": [
            "pushed item:  R\n",
            "pushed item:  A\n",
            "pushed item:  I\n",
            "pushed item:  N\n",
            "pushed item:  N\n",
            "\n",
            "Name\n",
            "N\n",
            "N\n",
            "I\n",
            "A\n",
            "R\n",
            "\n",
            "pushed item:  I\n",
            "pushed item:  A\n",
            "\n",
            "Vowel in name\n",
            "A\n",
            "I\n"
          ]
        }
      ],
      "source": [
        "# put your answer here\n",
        "namee = create_stack()\n",
        "newn = create_stack()\n",
        "\n",
        "push(namee, \"R\")\n",
        "push(namee, 'A')\n",
        "push(namee, 'I')\n",
        "push(namee, 'N')\n",
        "push(namee, 'N')\n",
        "\n",
        "print()\n",
        "print(\"Name\")\n",
        "print_stack(namee)\n",
        "print()\n",
        "\n",
        "x = None\n",
        "for i in range(0, len(namee)):\n",
        "  x = pop(namee)\n",
        "  if x == 'A' or x == 'E' or x == 'I' or x == 'O' or x == 'U':\n",
        "    push(newn, x)\n",
        "\n",
        "print()\n",
        "print(\"Vowel in name\")\n",
        "print_stack(newn)"
      ]
    },
    {
      "cell_type": "markdown",
      "metadata": {
        "id": "cwtpya5m8JJX"
      },
      "source": [
        "#### 5. Sort elements in a stack\n",
        "\n",
        "Given two stacks:\n",
        "\n",
        "number_stack = [3,1,2]\n",
        "\n",
        "sorted_stack = []\n",
        "\n",
        "Create a **sort()** function to pop each element from the **number_stack** and push each element into the **sorted_stack**. The elements in **sorted_stack** must be in ascending order.\n",
        "\n",
        "----------------\n",
        "\n",
        "**Hint:**\n",
        "\n",
        "| iteration | number_stack | sorted_stack |\n",
        "| --- | --- | --- |\n",
        "| 1 | [3, 1, 2] | [] |\n",
        "| 2 | [3, 1] | [2] |\n",
        "| 3 | [3, 2] | [1] |\n",
        "| 4 | [3] | [1, 2] |\n",
        "| 5 | [] | [1, 2, 3] |\n",
        "\n",
        "**Expected output:**\n",
        "\n",
        "print(sorted_stack)\n",
        "\n",
        "[1, 2, 3]"
      ]
    },
    {
      "cell_type": "code",
      "execution_count": 45,
      "metadata": {
        "id": "XrLee2zo8JJX",
        "colab": {
          "base_uri": "https://localhost:8080/"
        },
        "outputId": "7c0610bb-98a2-4051-d31b-277b9cf3fd56"
      },
      "outputs": [
        {
          "output_type": "stream",
          "name": "stdout",
          "text": [
            "pushed item:  3\n",
            "pushed item:  1\n",
            "pushed item:  2\n",
            "\n",
            "UNSORTED NUMBERS\n",
            "2\n",
            "1\n",
            "3\n",
            "\n",
            "pushed item:  2\n",
            "pushed item:  1\n",
            "pushed item:  2\n",
            "pushed item:  2\n",
            "pushed item:  3\n",
            "\n",
            "SORTED  NUMBERS\n",
            "3\n",
            "2\n",
            "1\n",
            "Head:  1\n"
          ]
        }
      ],
      "source": [
        "# put your answer here\n",
        "numu = create_stack()\n",
        "news = create_stack()\n",
        "\n",
        "push(numu, 3)\n",
        "push(numu, 1)\n",
        "push(numu, 2)\n",
        "\n",
        "print()\n",
        "print(\"UNSORTED NUMBERS\")\n",
        "print_stack(numu)\n",
        "\n",
        "print()\n",
        "x = None\n",
        "for i in range(0, len(numu)):\n",
        "  if not news:\n",
        "    push(news, pop(numu))\n",
        "  if numu[-1] < news[-1]:\n",
        "    s = pop(news)\n",
        "    push(news, pop(numu))\n",
        "    push(numu, s)\n",
        "  elif numu[-1] > news[-1]:\n",
        "    push(news, pop(numu))\n",
        "\n",
        "print()\n",
        "print(\"SORTED  NUMBERS\")\n",
        "print_stack(news)\n",
        "print(\"Head: \",news[0])"
      ]
    },
    {
      "cell_type": "code",
      "source": [],
      "metadata": {
        "id": "fiL5j5qQLQbb"
      },
      "execution_count": null,
      "outputs": []
    }
  ],
  "metadata": {
    "kernelspec": {
      "display_name": "Python 3",
      "language": "python",
      "name": "python3"
    },
    "language_info": {
      "codemirror_mode": {
        "name": "ipython",
        "version": 3
      },
      "file_extension": ".py",
      "mimetype": "text/x-python",
      "name": "python",
      "nbconvert_exporter": "python",
      "pygments_lexer": "ipython3",
      "version": "3.11.4"
    },
    "orig_nbformat": 4,
    "colab": {
      "provenance": [],
      "include_colab_link": true
    }
  },
  "nbformat": 4,
  "nbformat_minor": 0
}