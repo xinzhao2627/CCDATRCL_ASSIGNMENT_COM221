{
  "cells": [
    {
      "cell_type": "markdown",
      "metadata": {
        "id": "view-in-github",
        "colab_type": "text"
      },
      "source": [
        "<a href=\"https://colab.research.google.com/github/xinzhao2627/CCDATRCL_ASSIGNMENT_COM221/blob/main/Montaniel_DSA_exercise7.ipynb\" target=\"_parent\"><img src=\"https://colab.research.google.com/assets/colab-badge.svg\" alt=\"Open In Colab\"/></a>"
      ]
    },
    {
      "cell_type": "markdown",
      "metadata": {
        "id": "e3Ja3uozAJlw"
      },
      "source": [
        "# Exercise 7"
      ]
    },
    {
      "cell_type": "code",
      "execution_count": 1,
      "metadata": {
        "id": "IW6uTwU8AJly"
      },
      "outputs": [],
      "source": [
        "class Node:\n",
        "    def __init__(self, item):\n",
        "        self.left = None\n",
        "        self.right = None\n",
        "        self.val = item"
      ]
    },
    {
      "cell_type": "code",
      "execution_count": 10,
      "metadata": {
        "id": "uxVFuimIAJlz"
      },
      "outputs": [],
      "source": [
        "def evaluateExpressionTree(root):\n",
        "\n",
        "    # empty tree\n",
        "    if root is None:\n",
        "        return 0\n",
        "\n",
        "    # leaf node\n",
        "    if root.left is None and root.right is None:\n",
        "        return int(root.val)\n",
        "\n",
        "    # evaluate left tree\n",
        "    left_sum = evaluateExpressionTree(root.left)\n",
        "\n",
        "    # evaluate right tree\n",
        "    right_sum = evaluateExpressionTree(root.right)\n",
        "\n",
        "    # check which operation to apply\n",
        "    if root.val == '+':\n",
        "        return left_sum + right_sum\n",
        "\n",
        "    elif root.val == '-':\n",
        "        return left_sum - right_sum\n",
        "\n",
        "    elif root.val == '*':\n",
        "        return left_sum * right_sum\n",
        "\n",
        "    else:\n",
        "        return left_sum / right_sum"
      ]
    },
    {
      "cell_type": "code",
      "execution_count": 3,
      "metadata": {
        "id": "-xWZXA-mAJl0"
      },
      "outputs": [],
      "source": [
        "def inorder(root):\n",
        "\n",
        "    if root:\n",
        "        # Traverse left\n",
        "        inorder(root.left)\n",
        "        # Traverse root\n",
        "        print(str(root.val) + \"->\", end='')\n",
        "        # Traverse right\n",
        "        inorder(root.right)"
      ]
    },
    {
      "cell_type": "markdown",
      "metadata": {
        "id": "CVtqxh5DAJl1"
      },
      "source": [
        "#### 1. Construct a binary expression tree\n",
        "\n",
        "\n",
        "- Use the evaluateExpressionTree method to get the result of the expression\n",
        "- Use the inorder method to traverse the tree  \n",
        "\n",
        "$$ (8 + 4) * (7 - 9) $$"
      ]
    },
    {
      "cell_type": "code",
      "execution_count": 14,
      "metadata": {
        "id": "CxpP0zcVAJl1",
        "colab": {
          "base_uri": "https://localhost:8080/"
        },
        "outputId": "f47032e2-192b-4d80-cf35-1d5bdc5854b8"
      },
      "outputs": [
        {
          "output_type": "stream",
          "name": "stdout",
          "text": [
            "-24\n",
            "8->+->4->*->7->-->9->"
          ]
        }
      ],
      "source": [
        "# put your answer here\n",
        "root = Node(\"*\")\n",
        "\n",
        "left_parent = Node(\"+\")\n",
        "left_parent.left = Node(\"8\")\n",
        "left_parent.right = Node(\"4\")\n",
        "\n",
        "\n",
        "right_parent = Node(\"-\")\n",
        "right_parent.left = Node(\"7\")\n",
        "right_parent.right = Node(\"9\")\n",
        "\n",
        "root.left = left_parent\n",
        "root.right = right_parent\n",
        "\n",
        "print(evaluateExpressionTree(root))\n",
        "inorder(root)"
      ]
    },
    {
      "cell_type": "markdown",
      "metadata": {
        "id": "jc5KHLk6AJl2"
      },
      "source": [
        "#### 2. Construct a binary expression tree\n",
        "\n",
        "- Use the evaluateExpressionTree method to get the result of the expression\n",
        "- Use the inorder method to traverse the tree  \n",
        "\n",
        "$$ 5 / 8 + 3 - 6 * 1 $$"
      ]
    },
    {
      "cell_type": "code",
      "execution_count": 15,
      "metadata": {
        "id": "XORzqkC3AJl2",
        "colab": {
          "base_uri": "https://localhost:8080/"
        },
        "outputId": "7d96c3a7-7620-478b-aff3-6d2f9ccf6693"
      },
      "outputs": [
        {
          "output_type": "stream",
          "name": "stdout",
          "text": [
            "-2.375\n",
            "5->/->8->+->3->-->6->*->1->"
          ]
        }
      ],
      "source": [
        "# put your answer here\n",
        "root = Node(\"-\")\n",
        "\n",
        "left_parent = Node(\"+\")\n",
        "left_parent.left = Node(\"/\")\n",
        "left_parent.left.left = Node(\"5\")\n",
        "left_parent.left.right = Node(\"8\")\n",
        "left_parent.right = Node(\"3\")\n",
        "\n",
        "\n",
        "right_parent = Node(\"*\")\n",
        "right_parent.left = Node(\"6\")\n",
        "right_parent.right = Node(\"1\")\n",
        "\n",
        "root.left = left_parent\n",
        "root.right = right_parent\n",
        "\n",
        "print(evaluateExpressionTree(root))\n",
        "inorder(root)"
      ]
    },
    {
      "cell_type": "markdown",
      "metadata": {
        "id": "tu3n5ZdWAJl2"
      },
      "source": [
        "#### 3. Construct a binary expression tree\n",
        "\n",
        "- Use the evaluateExpressionTree method to get the result of the expression\n",
        "- Use the inorder method to traverse the tree  \n",
        "\n",
        "$$ ((2 + 5) / 3)- (3 + 8) $$"
      ]
    },
    {
      "cell_type": "code",
      "execution_count": 16,
      "metadata": {
        "id": "5GvZBxgtAJl3",
        "colab": {
          "base_uri": "https://localhost:8080/"
        },
        "outputId": "a6265244-5800-415e-adc1-0a0f942b3b30"
      },
      "outputs": [
        {
          "output_type": "stream",
          "name": "stdout",
          "text": [
            "-8.666666666666666\n",
            "2->+->5->/->3->-->3->+->8->"
          ]
        }
      ],
      "source": [
        "# put your answer here\n",
        "root = Node(\"-\")\n",
        "\n",
        "left_parent = Node(\"/\")\n",
        "left_parent.left = Node(\"+\")\n",
        "left_parent.left.left = Node(\"2\")\n",
        "left_parent.left.right = Node(\"5\")\n",
        "left_parent.right = Node(\"3\")\n",
        "\n",
        "\n",
        "right_parent = Node(\"+\")\n",
        "right_parent.left = Node(\"3\")\n",
        "right_parent.right = Node(\"8\")\n",
        "\n",
        "root.left = left_parent\n",
        "root.right = right_parent\n",
        "\n",
        "print(evaluateExpressionTree(root))\n",
        "inorder(root)"
      ]
    }
  ],
  "metadata": {
    "kernelspec": {
      "display_name": "Python 3",
      "language": "python",
      "name": "python3"
    },
    "language_info": {
      "codemirror_mode": {
        "name": "ipython",
        "version": 3
      },
      "file_extension": ".py",
      "mimetype": "text/x-python",
      "name": "python",
      "nbconvert_exporter": "python",
      "pygments_lexer": "ipython3",
      "version": "3.11.4"
    },
    "orig_nbformat": 4,
    "colab": {
      "provenance": [],
      "include_colab_link": true
    }
  },
  "nbformat": 4,
  "nbformat_minor": 0
}